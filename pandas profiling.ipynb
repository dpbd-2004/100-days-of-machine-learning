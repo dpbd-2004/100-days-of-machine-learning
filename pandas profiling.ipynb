{
 "cells": [
  {
   "cell_type": "code",
   "execution_count": 6,
   "id": "2792e883-1e11-4fdc-a270-654ee9309835",
   "metadata": {},
   "outputs": [],
   "source": [
    "\n",
    "import pandas as pd"
   ]
  },
  {
   "cell_type": "code",
   "execution_count": 7,
   "id": "ded750a8-4140-4fc4-98a4-decc5cf44e95",
   "metadata": {},
   "outputs": [],
   "source": [
    "\n",
    "df = pd.read_csv('train.csv')"
   ]
  },
  {
   "cell_type": "code",
   "execution_count": 3,
   "id": "a334474c-dcd5-4c7f-a8c1-c04c2dd606d9",
   "metadata": {},
   "outputs": [
    {
     "name": "stdout",
     "output_type": "stream",
     "text": [
      "Collecting sweetviz\n",
      "  Downloading sweetviz-2.3.1-py3-none-any.whl.metadata (24 kB)\n",
      "Requirement already satisfied: pandas!=1.0.0,!=1.0.1,!=1.0.2,>=0.25.3 in c:\\users\\deepti devaiah\\anaconda3\\envs\\ml\\lib\\site-packages (from sweetviz) (2.3.1)\n",
      "Requirement already satisfied: numpy>=1.16.0 in c:\\users\\deepti devaiah\\anaconda3\\envs\\ml\\lib\\site-packages (from sweetviz) (2.3.2)\n",
      "Requirement already satisfied: matplotlib>=3.1.3 in c:\\users\\deepti devaiah\\anaconda3\\envs\\ml\\lib\\site-packages (from sweetviz) (3.10.5)\n",
      "Collecting tqdm>=4.43.0 (from sweetviz)\n",
      "  Downloading tqdm-4.67.1-py3-none-any.whl.metadata (57 kB)\n",
      "Requirement already satisfied: scipy>=1.3.2 in c:\\users\\deepti devaiah\\anaconda3\\envs\\ml\\lib\\site-packages (from sweetviz) (1.16.1)\n",
      "Requirement already satisfied: jinja2>=2.11.1 in c:\\users\\deepti devaiah\\anaconda3\\envs\\ml\\lib\\site-packages (from sweetviz) (3.1.6)\n",
      "Collecting importlib-resources>=1.2.0 (from sweetviz)\n",
      "  Downloading importlib_resources-6.5.2-py3-none-any.whl.metadata (3.9 kB)\n",
      "Requirement already satisfied: MarkupSafe>=2.0 in c:\\users\\deepti devaiah\\anaconda3\\envs\\ml\\lib\\site-packages (from jinja2>=2.11.1->sweetviz) (3.0.2)\n",
      "Requirement already satisfied: contourpy>=1.0.1 in c:\\users\\deepti devaiah\\anaconda3\\envs\\ml\\lib\\site-packages (from matplotlib>=3.1.3->sweetviz) (1.3.3)\n",
      "Requirement already satisfied: cycler>=0.10 in c:\\users\\deepti devaiah\\anaconda3\\envs\\ml\\lib\\site-packages (from matplotlib>=3.1.3->sweetviz) (0.12.1)\n",
      "Requirement already satisfied: fonttools>=4.22.0 in c:\\users\\deepti devaiah\\anaconda3\\envs\\ml\\lib\\site-packages (from matplotlib>=3.1.3->sweetviz) (4.59.0)\n",
      "Requirement already satisfied: kiwisolver>=1.3.1 in c:\\users\\deepti devaiah\\anaconda3\\envs\\ml\\lib\\site-packages (from matplotlib>=3.1.3->sweetviz) (1.4.8)\n",
      "Requirement already satisfied: packaging>=20.0 in c:\\users\\deepti devaiah\\anaconda3\\envs\\ml\\lib\\site-packages (from matplotlib>=3.1.3->sweetviz) (25.0)\n",
      "Requirement already satisfied: pillow>=8 in c:\\users\\deepti devaiah\\anaconda3\\envs\\ml\\lib\\site-packages (from matplotlib>=3.1.3->sweetviz) (11.3.0)\n",
      "Requirement already satisfied: pyparsing>=2.3.1 in c:\\users\\deepti devaiah\\anaconda3\\envs\\ml\\lib\\site-packages (from matplotlib>=3.1.3->sweetviz) (3.2.3)\n",
      "Requirement already satisfied: python-dateutil>=2.7 in c:\\users\\deepti devaiah\\anaconda3\\envs\\ml\\lib\\site-packages (from matplotlib>=3.1.3->sweetviz) (2.9.0.post0)\n",
      "Requirement already satisfied: pytz>=2020.1 in c:\\users\\deepti devaiah\\anaconda3\\envs\\ml\\lib\\site-packages (from pandas!=1.0.0,!=1.0.1,!=1.0.2,>=0.25.3->sweetviz) (2025.2)\n",
      "Requirement already satisfied: tzdata>=2022.7 in c:\\users\\deepti devaiah\\anaconda3\\envs\\ml\\lib\\site-packages (from pandas!=1.0.0,!=1.0.1,!=1.0.2,>=0.25.3->sweetviz) (2025.2)\n",
      "Requirement already satisfied: six>=1.5 in c:\\users\\deepti devaiah\\anaconda3\\envs\\ml\\lib\\site-packages (from python-dateutil>=2.7->matplotlib>=3.1.3->sweetviz) (1.17.0)\n",
      "Requirement already satisfied: colorama in c:\\users\\deepti devaiah\\anaconda3\\envs\\ml\\lib\\site-packages (from tqdm>=4.43.0->sweetviz) (0.4.6)\n",
      "Downloading sweetviz-2.3.1-py3-none-any.whl (15.1 MB)\n",
      "   ---------------------------------------- 0.0/15.1 MB ? eta -:--:--\n",
      "   - -------------------------------------- 0.5/15.1 MB 3.1 MB/s eta 0:00:05\n",
      "   --- ------------------------------------ 1.3/15.1 MB 3.1 MB/s eta 0:00:05\n",
      "   ---- ----------------------------------- 1.8/15.1 MB 3.1 MB/s eta 0:00:05\n",
      "   ------ --------------------------------- 2.6/15.1 MB 3.1 MB/s eta 0:00:04\n",
      "   -------- ------------------------------- 3.1/15.1 MB 3.2 MB/s eta 0:00:04\n",
      "   ---------- ----------------------------- 3.9/15.1 MB 3.2 MB/s eta 0:00:04\n",
      "   ------------ --------------------------- 4.7/15.1 MB 3.2 MB/s eta 0:00:04\n",
      "   ------------- -------------------------- 5.2/15.1 MB 3.2 MB/s eta 0:00:04\n",
      "   --------------- ------------------------ 5.8/15.1 MB 3.1 MB/s eta 0:00:04\n",
      "   ----------------- ---------------------- 6.6/15.1 MB 3.1 MB/s eta 0:00:03\n",
      "   ------------------ --------------------- 7.1/15.1 MB 3.1 MB/s eta 0:00:03\n",
      "   -------------------- ------------------- 7.6/15.1 MB 3.0 MB/s eta 0:00:03\n",
      "   --------------------- ------------------ 8.1/15.1 MB 3.1 MB/s eta 0:00:03\n",
      "   ----------------------- ---------------- 8.9/15.1 MB 3.0 MB/s eta 0:00:03\n",
      "   ------------------------ --------------- 9.4/15.1 MB 3.0 MB/s eta 0:00:02\n",
      "   -------------------------- ------------- 10.0/15.1 MB 3.0 MB/s eta 0:00:02\n",
      "   --------------------------- ------------ 10.5/15.1 MB 2.9 MB/s eta 0:00:02\n",
      "   ----------------------------- ---------- 11.3/15.1 MB 3.0 MB/s eta 0:00:02\n",
      "   ------------------------------- -------- 11.8/15.1 MB 2.9 MB/s eta 0:00:02\n",
      "   -------------------------------- ------- 12.3/15.1 MB 2.9 MB/s eta 0:00:01\n",
      "   ---------------------------------- ----- 13.1/15.1 MB 2.9 MB/s eta 0:00:01\n",
      "   ------------------------------------ --- 13.6/15.1 MB 2.9 MB/s eta 0:00:01\n",
      "   ------------------------------------- -- 14.2/15.1 MB 2.9 MB/s eta 0:00:01\n",
      "   -------------------------------------- - 14.7/15.1 MB 2.9 MB/s eta 0:00:01\n",
      "   ---------------------------------------- 15.1/15.1 MB 2.9 MB/s eta 0:00:00\n",
      "Downloading importlib_resources-6.5.2-py3-none-any.whl (37 kB)\n",
      "Downloading tqdm-4.67.1-py3-none-any.whl (78 kB)\n",
      "Installing collected packages: tqdm, importlib-resources, sweetviz\n",
      "\n",
      "   ---------------------------------------- 0/3 [tqdm]\n",
      "   ------------- -------------------------- 1/3 [importlib-resources]\n",
      "   -------------------------- ------------- 2/3 [sweetviz]\n",
      "   -------------------------- ------------- 2/3 [sweetviz]\n",
      "   -------------------------- ------------- 2/3 [sweetviz]\n",
      "   ---------------------------------------- 3/3 [sweetviz]\n",
      "\n",
      "Successfully installed importlib-resources-6.5.2 sweetviz-2.3.1 tqdm-4.67.1\n"
     ]
    }
   ],
   "source": [
    "!pip install sweetviz\n",
    "\n"
   ]
  },
  {
   "cell_type": "code",
   "execution_count": 8,
   "id": "24dbe2a1-3ab2-468a-a3a8-f92b09b54dac",
   "metadata": {},
   "outputs": [
    {
     "data": {
      "application/vnd.jupyter.widget-view+json": {
       "model_id": "e00cb13bd3c1453a87bace26a44ab5df",
       "version_major": 2,
       "version_minor": 0
      },
      "text/plain": [
       "                                             |                                             | [  0%]   00:00 ->…"
      ]
     },
     "metadata": {},
     "output_type": "display_data"
    },
    {
     "ename": "AttributeError",
     "evalue": "module 'numpy' has no attribute 'VisibleDeprecationWarning'",
     "output_type": "error",
     "traceback": [
      "\u001b[31m---------------------------------------------------------------------------\u001b[39m",
      "\u001b[31mAttributeError\u001b[39m                            Traceback (most recent call last)",
      "\u001b[36mCell\u001b[39m\u001b[36m \u001b[39m\u001b[32mIn[8]\u001b[39m\u001b[32m, line 4\u001b[39m\n\u001b[32m      1\u001b[39m \u001b[38;5;28;01mimport\u001b[39;00m\u001b[38;5;250m \u001b[39m\u001b[34;01msweetviz\u001b[39;00m\u001b[38;5;250m \u001b[39m\u001b[38;5;28;01mas\u001b[39;00m\u001b[38;5;250m \u001b[39m\u001b[34;01msv\u001b[39;00m\n\u001b[32m      3\u001b[39m \u001b[38;5;66;03m# Analyze the dataframe\u001b[39;00m\n\u001b[32m----> \u001b[39m\u001b[32m4\u001b[39m report = sv.analyze(df)\n\u001b[32m      6\u001b[39m \u001b[38;5;66;03m# Save the report to an HTML file\u001b[39;00m\n\u001b[32m      7\u001b[39m report.show_html(\u001b[33m\"\u001b[39m\u001b[33moutput.html\u001b[39m\u001b[33m\"\u001b[39m)\n",
      "\u001b[36mFile \u001b[39m\u001b[32m~\\anaconda3\\envs\\ML\\Lib\\site-packages\\sweetviz\\sv_public.py:12\u001b[39m, in \u001b[36manalyze\u001b[39m\u001b[34m(source, target_feat, feat_cfg, pairwise_analysis)\u001b[39m\n\u001b[32m      8\u001b[39m \u001b[38;5;28;01mdef\u001b[39;00m\u001b[38;5;250m \u001b[39m\u001b[34manalyze\u001b[39m(source: Union[pd.DataFrame, Tuple[pd.DataFrame, \u001b[38;5;28mstr\u001b[39m]],\n\u001b[32m      9\u001b[39m             target_feat: \u001b[38;5;28mstr\u001b[39m = \u001b[38;5;28;01mNone\u001b[39;00m,\n\u001b[32m     10\u001b[39m             feat_cfg: FeatureConfig = \u001b[38;5;28;01mNone\u001b[39;00m,\n\u001b[32m     11\u001b[39m             pairwise_analysis: \u001b[38;5;28mstr\u001b[39m = \u001b[33m'\u001b[39m\u001b[33mauto\u001b[39m\u001b[33m'\u001b[39m):\n\u001b[32m---> \u001b[39m\u001b[32m12\u001b[39m     report = sweetviz.DataframeReport(source, target_feat, \u001b[38;5;28;01mNone\u001b[39;00m,\n\u001b[32m     13\u001b[39m                                       pairwise_analysis, feat_cfg)\n\u001b[32m     14\u001b[39m     \u001b[38;5;28;01mreturn\u001b[39;00m report\n",
      "\u001b[36mFile \u001b[39m\u001b[32m~\\anaconda3\\envs\\ML\\Lib\\site-packages\\sweetviz\\dataframe_report.py:277\u001b[39m, in \u001b[36mDataframeReport.__init__\u001b[39m\u001b[34m(self, source, target_feature_name, compare, pairwise_analysis, fc, verbosity)\u001b[39m\n\u001b[32m    274\u001b[39m \u001b[38;5;28;01mfor\u001b[39;00m f \u001b[38;5;129;01min\u001b[39;00m features_to_process:\n\u001b[32m    275\u001b[39m     \u001b[38;5;66;03m# start = time.perf_counter()\u001b[39;00m\n\u001b[32m    276\u001b[39m     \u001b[38;5;28mself\u001b[39m.progress_bar.set_description_str(\u001b[33mf\u001b[39m\u001b[33m\"\u001b[39m\u001b[33mFeature: \u001b[39m\u001b[38;5;132;01m{\u001b[39;00mf.source.name\u001b[38;5;132;01m}\u001b[39;00m\u001b[33m\"\u001b[39m)\n\u001b[32m--> \u001b[39m\u001b[32m277\u001b[39m     \u001b[38;5;28mself\u001b[39m._features[f.source.name] = sa.analyze_feature_to_dictionary(f)\n\u001b[32m    278\u001b[39m     \u001b[38;5;28mself\u001b[39m.progress_bar.update(\u001b[32m1\u001b[39m)\n\u001b[32m    279\u001b[39m     \u001b[38;5;66;03m# print(f\"DONE FEATURE------> {f.source.name}\"\u001b[39;00m\n\u001b[32m    280\u001b[39m     \u001b[38;5;66;03m#       f\" {(time.perf_counter() - start):.2f}   {self._features[f.source.name]['type']}\")\u001b[39;00m\n\u001b[32m    281\u001b[39m \u001b[38;5;66;03m# self.progress_bar.set_description_str('[FEATURES DONE]')\u001b[39;00m\n\u001b[32m    282\u001b[39m \u001b[38;5;66;03m# self.progress_bar.close()\u001b[39;00m\n\u001b[32m    283\u001b[39m \n\u001b[32m    284\u001b[39m \u001b[38;5;66;03m# Wrap up summary\u001b[39;00m\n",
      "\u001b[36mFile \u001b[39m\u001b[32m~\\anaconda3\\envs\\ML\\Lib\\site-packages\\sweetviz\\series_analyzer.py:142\u001b[39m, in \u001b[36manalyze_feature_to_dictionary\u001b[39m\u001b[34m(to_process)\u001b[39m\n\u001b[32m    140\u001b[39m \u001b[38;5;66;03m# Perform full analysis on source/compare/target\u001b[39;00m\n\u001b[32m    141\u001b[39m \u001b[38;5;28;01mif\u001b[39;00m returned_feature_dict[\u001b[33m\"\u001b[39m\u001b[33mtype\u001b[39m\u001b[33m\"\u001b[39m] == FeatureType.TYPE_NUM:\n\u001b[32m--> \u001b[39m\u001b[32m142\u001b[39m     sweetviz.series_analyzer_numeric.analyze(to_process, returned_feature_dict)\n\u001b[32m    143\u001b[39m \u001b[38;5;28;01melif\u001b[39;00m returned_feature_dict[\u001b[33m\"\u001b[39m\u001b[33mtype\u001b[39m\u001b[33m\"\u001b[39m] == FeatureType.TYPE_CAT:\n\u001b[32m    144\u001b[39m     sweetviz.series_analyzer_cat.analyze(to_process, returned_feature_dict)\n",
      "\u001b[36mFile \u001b[39m\u001b[32m~\\anaconda3\\envs\\ML\\Lib\\site-packages\\sweetviz\\series_analyzer_numeric.py:102\u001b[39m, in \u001b[36manalyze\u001b[39m\u001b[34m(to_process, feature_dict)\u001b[39m\n\u001b[32m     98\u001b[39m     do_stats_numeric(to_process.compare, compare_dict)\n\u001b[32m    100\u001b[39m do_detail_numeric(to_process.source, to_process.source_counts, to_process.compare_counts, feature_dict)\n\u001b[32m--> \u001b[39m\u001b[32m102\u001b[39m feature_dict[\u001b[33m\"\u001b[39m\u001b[33mminigraph\u001b[39m\u001b[33m\"\u001b[39m] = GraphNumeric(\u001b[33m\"\u001b[39m\u001b[33mmini\u001b[39m\u001b[33m\"\u001b[39m, to_process)\n\u001b[32m    103\u001b[39m feature_dict[\u001b[33m\"\u001b[39m\u001b[33mdetail_graphs\u001b[39m\u001b[33m\"\u001b[39m] = \u001b[38;5;28mlist\u001b[39m()\n\u001b[32m    104\u001b[39m \u001b[38;5;28;01mfor\u001b[39;00m num_bins \u001b[38;5;129;01min\u001b[39;00m [\u001b[32m0\u001b[39m, \u001b[32m5\u001b[39m, \u001b[32m15\u001b[39m, \u001b[32m30\u001b[39m]:\n",
      "\u001b[36mFile \u001b[39m\u001b[32m~\\anaconda3\\envs\\ML\\Lib\\site-packages\\sweetviz\\graph_numeric.py:71\u001b[39m, in \u001b[36mGraphNumeric.__init__\u001b[39m\u001b[34m(self, which_graph, to_process)\u001b[39m\n\u001b[32m     67\u001b[39m     normalizing_weights = norm_source\n\u001b[32m     69\u001b[39m gap_percent = config[\u001b[33m\"\u001b[39m\u001b[33mGraphs\u001b[39m\u001b[33m\"\u001b[39m].getfloat(\u001b[33m\"\u001b[39m\u001b[33msummary_graph_categorical_gap\u001b[39m\u001b[33m\"\u001b[39m)\n\u001b[32m---> \u001b[39m\u001b[32m71\u001b[39m warnings.filterwarnings(\u001b[33m'\u001b[39m\u001b[33mignore\u001b[39m\u001b[33m'\u001b[39m, category=np.VisibleDeprecationWarning)\n\u001b[32m     72\u001b[39m \u001b[38;5;28mself\u001b[39m.hist_specs = axs.hist(plot_data, weights = normalizing_weights, bins=\u001b[38;5;28mself\u001b[39m.num_bins, \\\n\u001b[32m     73\u001b[39m                            rwidth = (\u001b[32m100.0\u001b[39m - gap_percent) / \u001b[32m100.0\u001b[39m)\n\u001b[32m     74\u001b[39m warnings.filterwarnings(\u001b[33m'\u001b[39m\u001b[33monce\u001b[39m\u001b[33m'\u001b[39m, category=np.VisibleDeprecationWarning)\n",
      "\u001b[36mFile \u001b[39m\u001b[32m~\\anaconda3\\envs\\ML\\Lib\\site-packages\\numpy\\__init__.py:808\u001b[39m, in \u001b[36m__getattr__\u001b[39m\u001b[34m(attr)\u001b[39m\n\u001b[32m    805\u001b[39m     \u001b[38;5;28;01mimport\u001b[39;00m\u001b[38;5;250m \u001b[39m\u001b[34;01mnumpy\u001b[39;00m\u001b[34;01m.\u001b[39;00m\u001b[34;01mchar\u001b[39;00m\u001b[38;5;250m \u001b[39m\u001b[38;5;28;01mas\u001b[39;00m\u001b[38;5;250m \u001b[39m\u001b[34;01mchar\u001b[39;00m\n\u001b[32m    806\u001b[39m     \u001b[38;5;28;01mreturn\u001b[39;00m char.chararray\n\u001b[32m--> \u001b[39m\u001b[32m808\u001b[39m \u001b[38;5;28;01mraise\u001b[39;00m \u001b[38;5;167;01mAttributeError\u001b[39;00m(\u001b[33mf\u001b[39m\u001b[33m\"\u001b[39m\u001b[33mmodule \u001b[39m\u001b[38;5;132;01m{\u001b[39;00m\u001b[34m__name__\u001b[39m\u001b[38;5;132;01m!r}\u001b[39;00m\u001b[33m has no attribute \u001b[39m\u001b[38;5;132;01m{\u001b[39;00mattr\u001b[38;5;132;01m!r}\u001b[39;00m\u001b[33m\"\u001b[39m)\n",
      "\u001b[31mAttributeError\u001b[39m: module 'numpy' has no attribute 'VisibleDeprecationWarning'"
     ]
    },
    {
     "data": {
      "image/png": "[encoded data removed]",
      "text/plain": [
       "<Figure size 290x120 with 1 Axes>"
      ]
     },
     "metadata": {},
     "output_type": "display_data"
    }
   ],
   "source": [
    "import sweetviz as sv\n",
    "\n",
    "# Analyze the dataframe\n",
    "report = sv.analyze(df)\n",
    "\n",
    "# Save the report to an HTML file\n",
    "report.show_html(\"output.html\")\n"
   ]
  },
  {
   "cell_type": "code",
   "execution_count": 9,
   "id": "2c351120-83a3-4376-b715-e9cae14eac42",
   "metadata": {},
   "outputs": [
    {
     "name": "stdout",
     "output_type": "stream",
     "text": [
      "Collecting numpy==1.24.4\n",
      "  Downloading numpy-1.24.4.tar.gz (10.9 MB)\n",
      "     ---------------------------------------- 0.0/10.9 MB ? eta -:--:--\n",
      "     ---------------------------------------- 0.0/10.9 MB ? eta -:--:--\n",
      "     ---------------------------------------- 0.0/10.9 MB ? eta -:--:--\n",
      "     ---------------------------------------- 0.0/10.9 MB ? eta -:--:--\n",
      "     ---------------------------------------- 0.0/10.9 MB ? eta -:--:--\n",
      "      --------------------------------------- 0.3/10.9 MB ? eta -:--:--\n",
      "      --------------------------------------- 0.3/10.9 MB ? eta -:--:--\n",
      "     -- ------------------------------------ 0.8/10.9 MB 910.5 kB/s eta 0:00:12\n",
      "     ---- ----------------------------------- 1.3/10.9 MB 1.4 MB/s eta 0:00:08\n",
      "     ------ --------------------------------- 1.8/10.9 MB 1.6 MB/s eta 0:00:06\n",
      "     -------- ------------------------------- 2.4/10.9 MB 1.8 MB/s eta 0:00:05\n",
      "     ---------- ----------------------------- 2.9/10.9 MB 1.9 MB/s eta 0:00:05\n",
      "     ------------- -------------------------- 3.7/10.9 MB 2.1 MB/s eta 0:00:04\n",
      "     --------------- ------------------------ 4.2/10.9 MB 2.2 MB/s eta 0:00:04\n",
      "     ------------------ --------------------- 5.0/10.9 MB 2.3 MB/s eta 0:00:03\n",
      "     -------------------- ------------------- 5.5/10.9 MB 2.3 MB/s eta 0:00:03\n",
      "     ---------------------- ----------------- 6.0/10.9 MB 2.4 MB/s eta 0:00:03\n",
      "     ------------------------ --------------- 6.8/10.9 MB 2.4 MB/s eta 0:00:02\n",
      "     -------------------------- ------------- 7.3/10.9 MB 2.5 MB/s eta 0:00:02\n",
      "     ---------------------------- ----------- 7.9/10.9 MB 2.5 MB/s eta 0:00:02\n",
      "     ------------------------------- -------- 8.7/10.9 MB 2.5 MB/s eta 0:00:01\n",
      "     --------------------------------- ------ 9.2/10.9 MB 2.5 MB/s eta 0:00:01\n",
      "     ----------------------------------- ---- 9.7/10.9 MB 2.5 MB/s eta 0:00:01\n",
      "     -------------------------------------- - 10.5/10.9 MB 2.6 MB/s eta 0:00:01\n",
      "     ---------------------------------------- 10.9/10.9 MB 2.6 MB/s eta 0:00:00\n",
      "  Installing build dependencies: started\n",
      "  Installing build dependencies: finished with status 'done'\n",
      "  Getting requirements to build wheel: started\n",
      "  Getting requirements to build wheel: finished with status 'error'\n"
     ]
    },
    {
     "name": "stderr",
     "output_type": "stream",
     "text": [
      "  error: subprocess-exited-with-error\n",
      "  \n",
      "  Getting requirements to build wheel did not run successfully.\n",
      "  exit code: 1\n",
      "  \n",
      "  [32 lines of output]\n",
      "  Traceback (most recent call last):\n",
      "    File \u001b[35m\"C:\\Users\\Deepti Devaiah\\anaconda3\\envs\\ML\\Lib\\site-packages\\pip\\_vendor\\pyproject_hooks\\_in_process\\_in_process.py\"\u001b[0m, line \u001b[35m389\u001b[0m, in \u001b[35m<module>\u001b[0m\n",
      "      \u001b[31mmain\u001b[0m\u001b[1;31m()\u001b[0m\n",
      "      \u001b[31m~~~~\u001b[0m\u001b[1;31m^^\u001b[0m\n",
      "    File \u001b[35m\"C:\\Users\\Deepti Devaiah\\anaconda3\\envs\\ML\\Lib\\site-packages\\pip\\_vendor\\pyproject_hooks\\_in_process\\_in_process.py\"\u001b[0m, line \u001b[35m373\u001b[0m, in \u001b[35mmain\u001b[0m\n",
      "      json_out[\"return_val\"] = \u001b[31mhook\u001b[0m\u001b[1;31m(**hook_input[\"kwargs\"])\u001b[0m\n",
      "                               \u001b[31m~~~~\u001b[0m\u001b[1;31m^^^^^^^^^^^^^^^^^^^^^^^^\u001b[0m\n",
      "    File \u001b[35m\"C:\\Users\\Deepti Devaiah\\anaconda3\\envs\\ML\\Lib\\site-packages\\pip\\_vendor\\pyproject_hooks\\_in_process\\_in_process.py\"\u001b[0m, line \u001b[35m137\u001b[0m, in \u001b[35mget_requires_for_build_wheel\u001b[0m\n",
      "      backend = _build_backend()\n",
      "    File \u001b[35m\"C:\\Users\\Deepti Devaiah\\anaconda3\\envs\\ML\\Lib\\site-packages\\pip\\_vendor\\pyproject_hooks\\_in_process\\_in_process.py\"\u001b[0m, line \u001b[35m70\u001b[0m, in \u001b[35m_build_backend\u001b[0m\n",
      "      obj = import_module(mod_path)\n",
      "    File \u001b[35m\"C:\\Users\\Deepti Devaiah\\anaconda3\\envs\\ML\\Lib\\importlib\\__init__.py\"\u001b[0m, line \u001b[35m88\u001b[0m, in \u001b[35mimport_module\u001b[0m\n",
      "      return \u001b[31m_bootstrap._gcd_import\u001b[0m\u001b[1;31m(name[level:], package, level)\u001b[0m\n",
      "             \u001b[31m~~~~~~~~~~~~~~~~~~~~~~\u001b[0m\u001b[1;31m^^^^^^^^^^^^^^^^^^^^^^^^^^^^^^\u001b[0m\n",
      "    File \u001b[35m\"<frozen importlib._bootstrap>\"\u001b[0m, line \u001b[35m1387\u001b[0m, in \u001b[35m_gcd_import\u001b[0m\n",
      "    File \u001b[35m\"<frozen importlib._bootstrap>\"\u001b[0m, line \u001b[35m1360\u001b[0m, in \u001b[35m_find_and_load\u001b[0m\n",
      "    File \u001b[35m\"<frozen importlib._bootstrap>\"\u001b[0m, line \u001b[35m1310\u001b[0m, in \u001b[35m_find_and_load_unlocked\u001b[0m\n",
      "    File \u001b[35m\"<frozen importlib._bootstrap>\"\u001b[0m, line \u001b[35m488\u001b[0m, in \u001b[35m_call_with_frames_removed\u001b[0m\n",
      "    File \u001b[35m\"<frozen importlib._bootstrap>\"\u001b[0m, line \u001b[35m1387\u001b[0m, in \u001b[35m_gcd_import\u001b[0m\n",
      "    File \u001b[35m\"<frozen importlib._bootstrap>\"\u001b[0m, line \u001b[35m1360\u001b[0m, in \u001b[35m_find_and_load\u001b[0m\n",
      "    File \u001b[35m\"<frozen importlib._bootstrap>\"\u001b[0m, line \u001b[35m1331\u001b[0m, in \u001b[35m_find_and_load_unlocked\u001b[0m\n",
      "    File \u001b[35m\"<frozen importlib._bootstrap>\"\u001b[0m, line \u001b[35m935\u001b[0m, in \u001b[35m_load_unlocked\u001b[0m\n",
      "    File \u001b[35m\"<frozen importlib._bootstrap_external>\"\u001b[0m, line \u001b[35m1026\u001b[0m, in \u001b[35mexec_module\u001b[0m\n",
      "    File \u001b[35m\"<frozen importlib._bootstrap>\"\u001b[0m, line \u001b[35m488\u001b[0m, in \u001b[35m_call_with_frames_removed\u001b[0m\n",
      "    File \u001b[35m\"C:\\Users\\Deepti Devaiah\\AppData\\Local\\Temp\\pip-build-env-mgdyezbs\\overlay\\Lib\\site-packages\\setuptools\\__init__.py\"\u001b[0m, line \u001b[35m16\u001b[0m, in \u001b[35m<module>\u001b[0m\n",
      "      import setuptools.version\n",
      "    File \u001b[35m\"C:\\Users\\Deepti Devaiah\\AppData\\Local\\Temp\\pip-build-env-mgdyezbs\\overlay\\Lib\\site-packages\\setuptools\\version.py\"\u001b[0m, line \u001b[35m1\u001b[0m, in \u001b[35m<module>\u001b[0m\n",
      "      import pkg_resources\n",
      "    File \u001b[35m\"C:\\Users\\Deepti Devaiah\\AppData\\Local\\Temp\\pip-build-env-mgdyezbs\\overlay\\Lib\\site-packages\\pkg_resources\\__init__.py\"\u001b[0m, line \u001b[35m2172\u001b[0m, in \u001b[35m<module>\u001b[0m\n",
      "      register_finder(\u001b[1;31mpkgutil.ImpImporter\u001b[0m, find_on_path)\n",
      "                      \u001b[1;31m^^^^^^^^^^^^^^^^^^^\u001b[0m\n",
      "  \u001b[1;35mAttributeError\u001b[0m: \u001b[35mmodule 'pkgutil' has no attribute 'ImpImporter'. Did you mean: 'zipimporter'?\u001b[0m\n",
      "  [end of output]\n",
      "  \n",
      "  note: This error originates from a subprocess, and is likely not a problem with pip.\n",
      "error: subprocess-exited-with-error\n",
      "\n",
      "Getting requirements to build wheel did not run successfully.\n",
      "exit code: 1\n",
      "\n",
      "See above for output.\n",
      "\n",
      "note: This error originates from a subprocess, and is likely not a problem with pip.\n"
     ]
    }
   ],
   "source": [
    "!pip install numpy==1.24.4\n"
   ]
  },
  {
   "cell_type": "code",
   "execution_count": null,
   "id": "cf33fa3d-d159-4a6a-85d5-3c7dac2ca7af",
   "metadata": {},
   "outputs": [],
   "source": []
  }
 ],
 "metadata": {
  "kernelspec": {
   "display_name": "Python 3 (ipykernel)",
   "language": "python",
   "name": "python3"
  },
  "language_info": {
   "codemirror_mode": {
    "name": "ipython",
    "version": 3
   },
   "file_extension": ".py",
   "mimetype": "text/x-python",
   "name": "python",
   "nbconvert_exporter": "python",
   "pygments_lexer": "ipython3",
   "version": "3.13.5"
  }
 },
 "nbformat": 4,
 "nbformat_minor": 5
}
