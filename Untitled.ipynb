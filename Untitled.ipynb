{
 "cells": [
  {
   "cell_type": "code",
   "execution_count": 5,
   "id": "7d9fec64-1bc9-4899-a0c9-dc0b6987a746",
   "metadata": {},
   "outputs": [
    {
     "name": "stdout",
     "output_type": "stream",
     "text": [
      "heello\n"
     ]
    }
   ],
   "source": [
    "print(\"heello\")"
   ]
  },
  {
   "cell_type": "markdown",
   "id": "81efe162-d786-452b-b149-e866f08759c1",
   "metadata": {},
   "source": [
    "# 1. import dataset"
   ]
  },
  {
   "cell_type": "code",
   "execution_count": 6,
   "id": "3cf24d2e-da31-431c-b1fe-d2cccfc317f9",
   "metadata": {},
   "outputs": [],
   "source": [
    "import pandas as pd"
   ]
  },
  {
   "cell_type": "code",
   "execution_count": 7,
   "id": "0bf158c0-43ea-4012-b1d8-2b75f5ce2331",
   "metadata": {},
   "outputs": [],
   "source": [
    "df = pd.read_csv('aug_train.csv')"
   ]
  },
  {
   "cell_type": "code",
   "execution_count": null,
   "id": "76cc04ae-1557-4c3a-a6de-93ec2c24bd62",
   "metadata": {},
   "outputs": [],
   "source": []
  }
 ],
 "metadata": {
  "kernelspec": {
   "display_name": "Python 3 (ipykernel)",
   "language": "python",
   "name": "python3"
  },
  "language_info": {
   "codemirror_mode": {
    "name": "ipython",
    "version": 3
   },
   "file_extension": ".py",
   "mimetype": "text/x-python",
   "name": "python",
   "nbconvert_exporter": "python",
   "pygments_lexer": "ipython3",
   "version": "3.13.5"
  }
 },
 "nbformat": 4,
 "nbformat_minor": 5
}
